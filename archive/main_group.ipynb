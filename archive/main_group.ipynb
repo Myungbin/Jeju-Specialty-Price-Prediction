{
 "cells": [
  {
   "cell_type": "code",
   "execution_count": 6,
   "metadata": {},
   "outputs": [],
   "source": [
    "import holidays\n",
    "import pandas as pd\n",
    "import numpy as np\n",
    "import matplotlib.pyplot as plt\n",
    "import seaborn as sns\n",
    "\n",
    "from sklearn.preprocessing import LabelEncoder\n",
    "from sklearn.model_selection import train_test_split, KFold, StratifiedKFold\n",
    "from sklearn.metrics import mean_squared_error\n",
    "from xgboost import XGBRegressor\n",
    "\n",
    "from sklearn.model_selection import train_test_split\n",
    "\n",
    "import warnings\n",
    "warnings.filterwarnings('ignore')"
   ]
  },
  {
   "cell_type": "code",
   "execution_count": 11,
   "metadata": {},
   "outputs": [],
   "source": [
    "import pandas as pd\n",
    "from sklearn.preprocessing import LabelEncoder\n",
    "\n",
    "from src.data.feature_extraction import group_season, holiday, cyclical_feature\n",
    "\n",
    "\n",
    "class DataPreprocessing:\n",
    "    def __init__(self, train, test):\n",
    "        self.train = train\n",
    "        self.test = test\n",
    "\n",
    "    @staticmethod\n",
    "    def label_encode(train, test):\n",
    "        categorical_col = ['item', 'corporation', 'location', 'season', 'holiday', 'corporation_weekday', 'year_season']\n",
    "\n",
    "        for i in categorical_col:\n",
    "            le = LabelEncoder()\n",
    "            train[i] = le.fit_transform(train[i])\n",
    "            test[i] = le.transform(test[i])\n",
    "\n",
    "        return train, test\n",
    "\n",
    "    @staticmethod\n",
    "    def remove_outliers(train):\n",
    "        print('Remove outliers')\n",
    "        Q1 = train['price(원/kg)'].quantile(0.25)\n",
    "        Q3 = train['price(원/kg)'].quantile(0.75)\n",
    "        IQR = Q3 - Q1\n",
    "\n",
    "        lower_bound = Q1 - 1.5 * IQR\n",
    "        upper_bound = Q3 + 3 * IQR\n",
    "        print(upper_bound)\n",
    "        train = train[(train['price(원/kg)'] >= lower_bound) &\n",
    "                      (train['price(원/kg)'] <= upper_bound)]\n",
    "        return train\n",
    "\n",
    "    @staticmethod\n",
    "    def preprocessing(data):\n",
    "        # time feature\n",
    "        data['year'] = data['timestamp'].apply(lambda x: int(x[0:4]))\n",
    "        data['month'] = data['timestamp'].apply(lambda x: int(x[5:7]))\n",
    "        data['Weekday'] = pd.to_datetime(data['timestamp']).dt.weekday\n",
    "        data['is_weekend'] = data['Weekday'].apply(\n",
    "            lambda x: 1 if x >= 5 else 0)\n",
    "        data['year'] = data['year'] - 2019\n",
    "        data['season'] = group_season(data)\n",
    "        data['holiday'] = holiday(data)\n",
    "        # cyclical_feature(data)\n",
    "\n",
    "        # item feature\n",
    "        data['corporation_weekday'] = data['corporation'].astype(\n",
    "            str) + \"_\" + data['Weekday'].astype(str)\n",
    "        data['year_season'] = data['year'].astype(\n",
    "            str) + \"_\" + data['season'].astype(str)\n",
    "\n",
    "        return data\n",
    "\n",
    "    def fit(self):\n",
    "        self.train = self.preprocessing(self.train)\n",
    "        self.test = self.preprocessing(self.test)\n",
    "\n",
    "        self.train = self.remove_outliers(self.train)\n",
    "\n",
    "        x_train = self.train.drop(\n",
    "            columns=['ID', 'timestamp', 'supply(kg)', 'price(원/kg)'])\n",
    "        y_train = self.train['price(원/kg)']\n",
    "        x_test = self.test.drop(columns=['ID', 'timestamp'])\n",
    "\n",
    "        x_train, x_test = self.label_encode(x_train, x_test)\n",
    "\n",
    "        return x_train, y_train, x_test"
   ]
  },
  {
   "cell_type": "code",
   "execution_count": 12,
   "metadata": {},
   "outputs": [],
   "source": [
    "train = pd.read_csv(r'./data/train.csv')\n",
    "test = pd.read_csv(r'./data/test.csv')\n",
    "trade = pd.read_csv(r'./data/international_trade.csv')\n",
    "\n",
    "train['year'] = train['timestamp'].apply(lambda x : int(x[0:4]))\n",
    "train['month'] = train['timestamp'].apply(lambda x : int(x[5:7]))\n",
    "\n",
    "test['year'] = test['timestamp'].apply(lambda x : int(x[0:4]))\n",
    "test['month'] = test['timestamp'].apply(lambda x : int(x[5:7]))\n",
    "\n",
    "trade['기간'] = pd.to_datetime(trade['기간'])\n",
    "trade['기간'] = trade['기간'] + pd.DateOffset(months=1)\n",
    "trade['기간'] = trade['기간'].dt.to_period('M').astype(str)\n",
    "trade['year'] = trade['기간'].apply(lambda x : int(x[0:4]))\n",
    "trade['month'] = trade['기간'].apply(lambda x : int(x[5:7]))\n",
    "trade.rename(columns={'품목명': 'item'}, inplace=True)\n",
    "trade = trade.drop(columns=['기간'])\n",
    "\n",
    "TG_train = train[train['item'] == \"TG\"]\n",
    "CR_train = train[train['item'] == \"CR\"]\n",
    "CB_train = train[train['item'] == \"CB\"]\n",
    "RD_train = train[train['item'] == \"RD\"]\n",
    "BC_train = train[train['item'] == \"BC\"]\n",
    "\n",
    "\n",
    "TG_test = test[test['item'] == \"TG\"]\n",
    "CR_test = test[test['item'] == \"CR\"]\n",
    "CB_test = test[test['item'] == \"CB\"]\n",
    "RD_test = test[test['item'] == \"RD\"]\n",
    "BC_test = test[test['item'] == \"BC\"]\n",
    "\n",
    "\n",
    "TG_trade = trade[trade['item'] == \"감귤\"]\n",
    "TG_trade = TG_trade.drop(columns=['item'])"
   ]
  },
  {
   "cell_type": "code",
   "execution_count": 13,
   "metadata": {},
   "outputs": [],
   "source": [
    "TG_train = pd.merge(TG_train, TG_trade, on=['year', 'month'], how='left')\n",
    "TG_test = pd.merge(TG_test, TG_trade, on=['year', 'month'], how='left')\n",
    "\n",
    "\n",
    "\n",
    "preprocessing = DataPreprocessing(TG_train, TG_test)\n",
    "x, y, test = preprocessing.fit()"
   ]
  },
  {
   "cell_type": "code",
   "execution_count": 17,
   "metadata": {},
   "outputs": [],
   "source": [
    "x_train, x_val, y_train, y_val = train_test_split(x, y, test_size=0.2, random_state=1103)"
   ]
  },
  {
   "cell_type": "code",
   "execution_count": 25,
   "metadata": {},
   "outputs": [
    {
     "name": "stdout",
     "output_type": "stream",
     "text": [
      "RMSE: 1695.7936735444994\n"
     ]
    },
    {
     "data": {
      "image/png": "[encoded data removed]",
      "text/plain": [
       "<Figure size 640x480 with 1 Axes>"
      ]
     },
     "metadata": {},
     "output_type": "display_data"
    }
   ],
   "source": [
    "xgb = XGBRegressor()\n",
    "xgb.fit(x_train, y_train)\n",
    "xgb_pred = xgb.predict(x_val)\n",
    "rmse = mean_squared_error(y_val, xgb_pred, squared=False)\n",
    "print(f\"RMSE: {rmse}\")\n",
    "\n",
    "feature_importance = xgb.feature_importances_\n",
    "for index, value in enumerate(feature_importance):\n",
    "    plt.text(value, index, f'{value:.2f}')  # 소수점 둘째 자리까지 표시\n",
    "sns.barplot(x=feature_importance, y=x_train.columns)\n",
    "plt.xlabel('Feature Importance')\n",
    "plt.ylabel('Features')\n",
    "plt.title('Variable Importance Plot')\n",
    "plt.show()"
   ]
  },
  {
   "cell_type": "code",
   "execution_count": 26,
   "metadata": {},
   "outputs": [
    {
     "name": "stdout",
     "output_type": "stream",
     "text": [
      "====================================1============================================\n",
      "1 Fold RMSE = 1646.5179721623483\n",
      "================================================================================\n",
      "\n",
      "\n",
      "====================================2============================================\n",
      "2 Fold RMSE = 1617.4864181432486\n",
      "================================================================================\n",
      "\n",
      "\n",
      "====================================3============================================\n",
      "3 Fold RMSE = 1531.6197159469589\n",
      "================================================================================\n",
      "\n",
      "\n",
      "====================================4============================================\n",
      "4 Fold RMSE = 1568.3259791877533\n",
      "================================================================================\n",
      "\n",
      "\n",
      "====================================5============================================\n",
      "5 Fold RMSE = 1600.9899329662385\n",
      "================================================================================\n",
      "\n",
      "\n",
      "====================================6============================================\n",
      "6 Fold RMSE = 1501.2932886487079\n",
      "================================================================================\n",
      "\n",
      "\n",
      "====================================7============================================\n",
      "7 Fold RMSE = 1619.7559057420788\n",
      "================================================================================\n",
      "\n",
      "\n",
      "====================================8============================================\n",
      "8 Fold RMSE = 1643.0914354970284\n",
      "================================================================================\n",
      "\n",
      "\n",
      "====================================9============================================\n",
      "9 Fold RMSE = 1605.8602481673029\n",
      "================================================================================\n",
      "\n",
      "\n",
      "====================================10============================================\n",
      "10 Fold RMSE = 1692.2478615398186\n",
      "================================================================================\n",
      "\n",
      "\n",
      "Average RMSE over 10 folds: 1602.7189\n"
     ]
    }
   ],
   "source": [
    "def cross_validate_models(folds, X, y, model):\n",
    "\n",
    "    models = []\n",
    "    scores = []\n",
    "    for idx, (train_idx, val_idx) in enumerate(folds):\n",
    "        print(f'===================================={idx+1}============================================')\n",
    "        x_train, x_val = X.iloc[train_idx], X.iloc[val_idx]\n",
    "        y_train, y_val = y.iloc[train_idx], y.iloc[val_idx]\n",
    "    \n",
    "        model.fit(x_train, y_train, early_stopping_rounds=50,\n",
    "                  eval_metric='rmse', eval_set=[(x_val, y_val)], verbose=False)\n",
    "\n",
    "        y_pred = model.predict(x_val)\n",
    "        rmse = mean_squared_error(y_val, y_pred, squared=False)\n",
    "        print(f\"{idx + 1} Fold RMSE = {rmse}\")\n",
    "        \n",
    "        scores.append(rmse)\n",
    "        models.append(model)\n",
    "        print(f'================================================================================\\n\\n')\n",
    "    \n",
    "    print(f\"Average RMSE over {len(folds)} folds: {sum(scores)/len(folds):.4f}\")\n",
    "    \n",
    "    return models\n",
    "\n",
    "model = XGBRegressor(n_estimators=10000, random_state=1103)\n",
    "folds = list(StratifiedKFold(n_splits=10, shuffle=True, random_state=1103).split(x, y))\n",
    "models = cross_validate_models(folds, x, y, model)\n",
    "# predictions = sum(model.predict(x_test) for model in models) / len(folds)"
   ]
  },
  {
   "cell_type": "code",
   "execution_count": 222,
   "metadata": {},
   "outputs": [
    {
     "data": {
      "text/plain": [
       "array([3496.7437 , -242.84464, 3388.8423 , ...,  528.1222 ,  512.8326 ,\n",
       "        522.0611 ], dtype=float32)"
      ]
     },
     "execution_count": 222,
     "metadata": {},
     "output_type": "execute_result"
    }
   ],
   "source": [
    "predictions"
   ]
  },
  {
   "cell_type": "code",
   "execution_count": 223,
   "metadata": {},
   "outputs": [],
   "source": [
    "submission = pd.read_csv(r'data\\sample_submission.csv')\n",
    "submission['answer'] = np.round(predictions)\n",
    "idx_list = x_test[(x_test['Weekday'] == 6)].index\n",
    "submission.loc[idx_list, 'answer'] = 0\n",
    "submission.to_csv('./xgb_submission.csv', index=False)"
   ]
  },
  {
   "cell_type": "code",
   "execution_count": null,
   "metadata": {},
   "outputs": [],
   "source": []
  }
 ],
 "metadata": {
  "kernelspec": {
   "display_name": "basic",
   "language": "python",
   "name": "python3"
  },
  "language_info": {
   "codemirror_mode": {
    "name": "ipython",
    "version": 3
   },
   "file_extension": ".py",
   "mimetype": "text/x-python",
   "name": "python",
   "nbconvert_exporter": "python",
   "pygments_lexer": "ipython3",
   "version": "3.8.10"
  }
 },
 "nbformat": 4,
 "nbformat_minor": 2
}
