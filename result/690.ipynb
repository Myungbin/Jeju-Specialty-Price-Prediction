{
 "cells": [
  {
   "cell_type": "code",
   "execution_count": 99,
   "metadata": {},
   "outputs": [],
   "source": [
    "import pandas as pd\n",
    "import numpy as np\n",
    "from sklearn.preprocessing import LabelEncoder\n",
    "from sklearn.model_selection import train_test_split, KFold, StratifiedKFold\n",
    "from sklearn.metrics import mean_squared_error\n",
    "\n",
    "import holidays\n",
    "import matplotlib.pyplot as plt\n",
    "import seaborn as sns\n",
    "\n",
    "from xgboost import XGBRegressor\n",
    "from catboost import CatBoostRegressor\n",
    "from lightgbm import LGBMRegressor\n",
    "\n",
    "import warnings\n",
    "warnings.filterwarnings('ignore')"
   ]
  },
  {
   "cell_type": "code",
   "execution_count": 100,
   "metadata": {},
   "outputs": [],
   "source": [
    "train = pd.read_csv(r'./data/train.csv')\n",
    "international_trade = pd.read_csv(r'./data/international_trade.csv')\n",
    "test = pd.read_csv(r'./data/test.csv')"
   ]
  },
  {
   "cell_type": "code",
   "execution_count": 101,
   "metadata": {},
   "outputs": [],
   "source": [
    "def group_season(df):\n",
    "    df.loc[(df['month'] == 3) | (df['month'] == 4) | (df['month'] == 5), 'season'] = '봄'\n",
    "    df.loc[(df['month'] == 6) | (df['month'] == 7) | (df['month'] == 8), 'season'] = '여름'\n",
    "    df.loc[(df['month'] == 9) | (df['month'] == 10) | (df['month'] == 11), 'season'] = '가을'\n",
    "    df.loc[(df['month'] == 12) | (df['month'] == 1) | (df['month'] == 2), 'season'] = '겨울'\n",
    "    return df['season']\n",
    "\n",
    "def holiday(df):\n",
    "    kr_holidays = holidays.KR()\n",
    "    df['holiday'] = df.timestamp.apply(lambda x: 'holiday' if x in kr_holidays else 'non-holiday')\n",
    "    return df['holiday']\n",
    "\n",
    "def cyclical_feature(df, time=12):\n",
    "    df['sin_time'] = np.sin(2*np.pi*df.month/time)\n",
    "    df['cos_time'] = np.cos(2*np.pi*df.month/time)\n",
    "    \n",
    "def post_preprocessing(test, submission):\n",
    "    idx_list = test[(test['Weekday'] == 6)].index\n",
    "    submission.loc[idx_list, 'answer'] = 0\n",
    "    submission['answer'] = submission['answer'].apply(lambda x: max(0, x))\n",
    "    return submission"
   ]
  },
  {
   "cell_type": "code",
   "execution_count": 102,
   "metadata": {},
   "outputs": [],
   "source": [
    "train['year'] = train['timestamp'].apply(lambda x : int(x[0:4]))\n",
    "train['month'] = train['timestamp'].apply(lambda x : int(x[5:7]))\n",
    "# train['day'] = train['timestamp'].apply(lambda x : int(x[8:10]))\n",
    "train['Weekday'] = pd.to_datetime(train['timestamp']).dt.weekday\n",
    "# train['is_weekend'] = train['Weekday'].apply(lambda x: 1 if x >= 6 else 0)\n",
    "train['total_item_value'] = train['item']+train['corporation']+train['location']\n",
    "train['item_month_Weekday'] = train['item'].astype(str) + \"_\" + train['month'].astype(str) + train['Weekday'].astype(str)\n",
    "train['corporation_weekday'] = train['corporation'].astype(str) + \"_\" + train['Weekday'].astype(str)\n",
    "\n",
    "cyclical_feature(train)\n",
    "\n",
    "test['year'] = test['timestamp'].apply(lambda x : int(x[0:4]))\n",
    "test['month'] = test['timestamp'].apply(lambda x : int(x[5:7]))\n",
    "# test['day'] = test['timestamp'].apply(lambda x : int(x[8:10]))\n",
    "test['Weekday'] = pd.to_datetime(test['timestamp']).dt.weekday\n",
    "# test['is_weekend'] = test['Weekday'].apply(lambda x: 1 if x >= 6 else 0)\n",
    "test['total_item_value'] = test['item']+test['corporation']+test['location']\n",
    "test['item_month_Weekday'] = test['item'].astype(str) + \"_\" + test['month'].astype(str) + test['Weekday'].astype(str)\n",
    "test['corporation_weekday'] = test['corporation'].astype(str) + \"_\" + test['Weekday'].astype(str)\n",
    "\n",
    "cyclical_feature(test)\n",
    "\n",
    "\n",
    "train['season'] = group_season(train)\n",
    "test['season'] = group_season(test)\n",
    "\n",
    "train['holiday'] = holiday(train)\n",
    "test['holiday'] = holiday(test)\n",
    "\n",
    "train['item_season'] = train['item'].astype(str) + \"_\" + train['season'].astype(str)\n",
    "test['item_season'] = test['item'].astype(str) + \"_\" + test['season'].astype(str)\n",
    "\n",
    "train['year_season'] = train['year'].astype(str) + \"_\" + train['season'].astype(str)\n",
    "test['year_season'] = test['year'].astype(str) + \"_\" + test['season'].astype(str)\n",
    "\n",
    "\n",
    "# 이상치 제거(너무큰거)\n",
    "Q1 = train['price(원/kg)'].quantile(0.25)\n",
    "Q3 = train['price(원/kg)'].quantile(0.75)\n",
    "IQR = Q3 - Q1\n",
    "\n",
    "lower_bound = Q1 - 1.5 * IQR\n",
    "upper_bound = Q3 + 3 * IQR\n",
    "train = train[(train['price(원/kg)'] >= lower_bound) & (train['price(원/kg)'] <= upper_bound)]\n",
    "# weekday가 6이면 다 0원인데 특정날의 이벤트로 가격이 있던적이 존재해서 제거\n",
    "train = train[(train['Weekday'] != 6) | (train['price(원/kg)'] <= 0)] \n",
    "\n",
    "\n",
    "im_std = train.groupby(['item', 'month'])['price(원/kg)'].agg([('std', 'std')]).reset_index()\n",
    "train = pd.merge(train, im_std, on=['item', 'month'], how='left')\n",
    "test = pd.merge(test, im_std, on=['item', 'month'], how='left')\n",
    "\n",
    "\n",
    "iw_std = train.groupby(['item', 'corporation'])['price(원/kg)'].agg([('std_ic', 'std')]).reset_index()\n",
    "train = pd.merge(train, iw_std, on=['item', 'corporation'], how='left')\n",
    "test = pd.merge(test, iw_std, on=['item', 'corporation'], how='left')\n",
    "\n",
    "x = train.drop(columns=['ID', 'timestamp', 'supply(kg)', 'price(원/kg)'])\n",
    "y = train['price(원/kg)']\n",
    "\n",
    "x_test = test.drop(columns=['ID', 'timestamp'])\n",
    "\n",
    "qual_col = ['item', 'corporation', 'location', 'season', 'holiday', 'total_item_value',\n",
    "            'item_month_Weekday', 'corporation_weekday', 'item_season', 'year_season']\n",
    "\n",
    "for i in qual_col:      \n",
    "    le = LabelEncoder()\n",
    "    x[i]=le.fit_transform(x[i])\n",
    "    x_test[i]=le.transform(x_test[i])\n",
    "\n",
    "x_train, x_val, y_train, y_val = train_test_split(x, y, test_size=0.2, random_state=1103)"
   ]
  },
  {
   "cell_type": "code",
   "execution_count": 103,
   "metadata": {},
   "outputs": [
    {
     "name": "stdout",
     "output_type": "stream",
     "text": [
      "RMSE: 650.3535973295399\n"
     ]
    },
    {
     "data": {
      "image/png": "[encoded data removed]",
      "text/plain": [
       "<Figure size 640x480 with 1 Axes>"
      ]
     },
     "metadata": {},
     "output_type": "display_data"
    }
   ],
   "source": [
    "xgb = XGBRegressor()\n",
    "xgb.fit(x_train, y_train)\n",
    "xgb_pred = xgb.predict(x_val)\n",
    "rmse = mean_squared_error(y_val, xgb_pred, squared=False)\n",
    "print(f\"RMSE: {rmse}\")\n",
    "\n",
    "feature_importance = xgb.feature_importances_\n",
    "for index, value in enumerate(feature_importance):\n",
    "    plt.text(value, index, f'{value:.2f}')  # 소수점 둘째 자리까지 표시\n",
    "sns.barplot(x=feature_importance, y=x_train.columns)\n",
    "plt.xlabel('Feature Importance')\n",
    "plt.ylabel('Features')\n",
    "plt.title('Variable Importance Plot')\n",
    "plt.show()"
   ]
  },
  {
   "cell_type": "code",
   "execution_count": 104,
   "metadata": {},
   "outputs": [
    {
     "name": "stdout",
     "output_type": "stream",
     "text": [
      "====================================1============================================\n",
      "1 Fold RMSE = 607.8108981053464\n",
      "================================================================================\n",
      "\n",
      "\n",
      "====================================2============================================\n",
      "2 Fold RMSE = 665.238378366472\n",
      "================================================================================\n",
      "\n",
      "\n",
      "====================================3============================================\n",
      "3 Fold RMSE = 675.065722363279\n",
      "================================================================================\n",
      "\n",
      "\n",
      "====================================4============================================\n",
      "4 Fold RMSE = 629.9266686978011\n",
      "================================================================================\n",
      "\n",
      "\n",
      "====================================5============================================\n",
      "5 Fold RMSE = 661.1126889916791\n",
      "================================================================================\n",
      "\n",
      "\n",
      "====================================6============================================\n",
      "6 Fold RMSE = 654.1346840777386\n",
      "================================================================================\n",
      "\n",
      "\n",
      "====================================7============================================\n",
      "7 Fold RMSE = 638.0401911540802\n",
      "================================================================================\n",
      "\n",
      "\n",
      "====================================8============================================\n",
      "8 Fold RMSE = 656.3384461196657\n",
      "================================================================================\n",
      "\n",
      "\n",
      "====================================9============================================\n",
      "9 Fold RMSE = 640.9811864580693\n",
      "================================================================================\n",
      "\n",
      "\n",
      "====================================10============================================\n",
      "10 Fold RMSE = 657.0306775971793\n",
      "================================================================================\n",
      "\n",
      "\n",
      "Average RMSE over 10 folds: 648.5680\n"
     ]
    }
   ],
   "source": [
    "def cross_validate_models(folds, X, y, model, mode='xgb'):\n",
    "\n",
    "    models = []\n",
    "    scores = []\n",
    "    \n",
    "    for idx, (train_idx, val_idx) in enumerate(folds):\n",
    "        print(f'===================================={idx+1}============================================')\n",
    "        x_train, x_val = X.iloc[train_idx], X.iloc[val_idx]\n",
    "        y_train, y_val = y.iloc[train_idx], y.iloc[val_idx]\n",
    "        \n",
    "        if mode == 'xgb':\n",
    "            model.fit(x_train, y_train, early_stopping_rounds=50, eval_metric='rmse', eval_set=[(x_val, y_val)], verbose=False)\n",
    "        if mode == 'lgbm':\n",
    "            model.fit(x_train, y_train, early_stopping_rounds=50, eval_metric='rmse', eval_set=[(x_val, y_val)], verbose=False)\n",
    "        if mode == 'cat':\n",
    "            model.fit(x_train, y_train, early_stopping_rounds=50, verbose=100)\n",
    "        y_pred = model.predict(x_val)\n",
    "        rmse = mean_squared_error(y_val, y_pred, squared=False)\n",
    "        print(f\"{idx + 1} Fold RMSE = {rmse}\")\n",
    "        \n",
    "        scores.append(rmse)\n",
    "        models.append(model)\n",
    "        print(f'================================================================================\\n\\n')\n",
    "    \n",
    "    print(f\"Average RMSE over {len(folds)} folds: {sum(scores)/len(folds):.4f}\")\n",
    "    \n",
    "    return models\n",
    "\n",
    "model = XGBRegressor(n_estimators=10000, random_state=1103)\n",
    "# model = LGBMRegressor(n_estimators=10000, random_state=1103)\n",
    "# model = CatBoostRegressor(n_estimators=10000, random_state=1103, cat_features=qual_col)\n",
    "folds = list(StratifiedKFold(n_splits=10, shuffle=True, random_state=1103).split(x, y))\n",
    "models = cross_validate_models(folds, x, y, model, 'xgb')\n",
    "predictions = sum(model.predict(x_test) for model in models) / len(folds)"
   ]
  },
  {
   "cell_type": "code",
   "execution_count": 105,
   "metadata": {},
   "outputs": [
    {
     "data": {
      "text/plain": [
       "array([3721.5776  ,   39.313206, 3442.0405  , ...,  517.377   ,\n",
       "        517.377   ,  517.377   ], dtype=float32)"
      ]
     },
     "execution_count": 105,
     "metadata": {},
     "output_type": "execute_result"
    }
   ],
   "source": [
    "predictions"
   ]
  },
  {
   "cell_type": "code",
   "execution_count": 106,
   "metadata": {},
   "outputs": [],
   "source": [
    "submission = pd.read_csv(r'data\\sample_submission.csv')\n",
    "submission['answer'] = np.round(predictions)\n",
    "submission = post_preprocessing(x_test, submission)\n",
    "submission.to_csv('./xgb_submission.csv', index=False)"
   ]
  },
  {
   "cell_type": "code",
   "execution_count": 107,
   "metadata": {},
   "outputs": [],
   "source": [
    "# idx_list = x_test[(x_test['Weekday'] == 6)].index\n",
    "# submission.loc[idx_list, 'answer'] = 0\n",
    "# submission['answer'] = submission['answer'].apply(lambda x: max(0, x))"
   ]
  },
  {
   "cell_type": "code",
   "execution_count": null,
   "metadata": {},
   "outputs": [],
   "source": []
  },
  {
   "cell_type": "code",
   "execution_count": null,
   "metadata": {},
   "outputs": [],
   "source": []
  },
  {
   "cell_type": "code",
   "execution_count": null,
   "metadata": {},
   "outputs": [],
   "source": []
  },
  {
   "cell_type": "code",
   "execution_count": null,
   "metadata": {},
   "outputs": [],
   "source": []
  },
  {
   "cell_type": "code",
   "execution_count": null,
   "metadata": {},
   "outputs": [],
   "source": []
  }
 ],
 "metadata": {
  "kernelspec": {
   "display_name": "basic",
   "language": "python",
   "name": "python3"
  },
  "language_info": {
   "codemirror_mode": {
    "name": "ipython",
    "version": 3
   },
   "file_extension": ".py",
   "mimetype": "text/x-python",
   "name": "python",
   "nbconvert_exporter": "python",
   "pygments_lexer": "ipython3",
   "version": "3.8.10"
  }
 },
 "nbformat": 4,
 "nbformat_minor": 2
}
