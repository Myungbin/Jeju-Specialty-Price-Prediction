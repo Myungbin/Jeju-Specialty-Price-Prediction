{
 "cells": [
  {
   "cell_type": "code",
   "execution_count": 256,
   "metadata": {},
   "outputs": [],
   "source": [
    "import pandas as pd\n",
    "import numpy as np\n",
    "from sklearn.preprocessing import LabelEncoder\n",
    "from sklearn.model_selection import train_test_split, KFold, StratifiedKFold\n",
    "from sklearn.metrics import mean_squared_error\n",
    "\n",
    "import holidays\n",
    "import matplotlib.pyplot as plt\n",
    "import seaborn as sns\n",
    "\n",
    "from xgboost import XGBRegressor\n",
    "from catboost import CatBoostRegressor\n",
    "from lightgbm import LGBMRegressor\n",
    "\n",
    "import optuna\n",
    "from optuna import Trial\n",
    "from optuna.samplers import TPESampler\n",
    "\n",
    "import warnings\n",
    "warnings.filterwarnings('ignore')"
   ]
  },
  {
   "cell_type": "code",
   "execution_count": 257,
   "metadata": {},
   "outputs": [],
   "source": [
    "train = pd.read_csv(r'./data/train.csv')\n",
    "international_trade = pd.read_csv(r'./data/international_trade.csv')\n",
    "test = pd.read_csv(r'./data/test.csv')"
   ]
  },
  {
   "cell_type": "code",
   "execution_count": 258,
   "metadata": {},
   "outputs": [],
   "source": [
    "def group_season(df):\n",
    "    df.loc[(df['month'] == 3) | (df['month'] == 4) | (df['month'] == 5), 'season'] = '봄'\n",
    "    df.loc[(df['month'] == 6) | (df['month'] == 7) | (df['month'] == 8), 'season'] = '여름'\n",
    "    df.loc[(df['month'] == 9) | (df['month'] == 10) | (df['month'] == 11), 'season'] = '가을'\n",
    "    df.loc[(df['month'] == 12) | (df['month'] == 1) | (df['month'] == 2), 'season'] = '겨울'\n",
    "    return df['season']\n",
    "\n",
    "def holiday(df):\n",
    "    kr_holidays = holidays.KR()\n",
    "    df['holiday'] = df.timestamp.apply(lambda x: 'holiday' if x in kr_holidays else 'non-holiday')\n",
    "    return df['holiday']\n",
    "\n",
    "def cyclical_feature(df, time=12):\n",
    "    df['sin_time'] = np.sin(2*np.pi*df.month/time)\n",
    "    df['cos_time'] = np.cos(2*np.pi*df.month/time)"
   ]
  },
  {
   "cell_type": "code",
   "execution_count": 259,
   "metadata": {},
   "outputs": [],
   "source": [
    "train['year'] = train['timestamp'].apply(lambda x : int(x[0:4]))\n",
    "train['month'] = train['timestamp'].apply(lambda x : int(x[5:7]))\n",
    "train['day'] = train['timestamp'].apply(lambda x : int(x[8:10]))\n",
    "train['Weekday'] = pd.to_datetime(train['timestamp']).dt.weekday\n",
    "train['is_weekend'] = train['Weekday'].apply(lambda x: 1 if x >= 5 else 0)\n",
    "train['total_item_value'] = train['item']+train['corporation']+train['location']\n",
    "train['location_month'] = train['location'].astype(str) + \"_\" + train['month'].astype(str)\n",
    "cyclical_feature(train)\n",
    "\n",
    "test['year'] = test['timestamp'].apply(lambda x : int(x[0:4]))\n",
    "test['month'] = test['timestamp'].apply(lambda x : int(x[5:7]))\n",
    "test['day'] = test['timestamp'].apply(lambda x : int(x[8:10]))\n",
    "test['Weekday'] = pd.to_datetime(test['timestamp']).dt.weekday\n",
    "test['is_weekend'] = test['Weekday'].apply(lambda x: 1 if x >= 5 else 0)\n",
    "test['total_item_value'] = test['item']+test['corporation']+test['location']\n",
    "test['location_month'] = test['location'].astype(str) + \"_\" + test['month'].astype(str)\n",
    "cyclical_feature(test)\n",
    "\n",
    "\n",
    "train['season'] = group_season(train)\n",
    "test['season'] = group_season(test)\n",
    "\n",
    "train['holiday'] = holiday(train)\n",
    "test['holiday'] = holiday(test)\n",
    "\n",
    "\n",
    "\n",
    "Q1 = train['price(원/kg)'].quantile(0.25)\n",
    "Q3 = train['price(원/kg)'].quantile(0.75)\n",
    "IQR = Q3 - Q1\n",
    "\n",
    "lower_bound = Q1 - 1.5 * IQR\n",
    "upper_bound = Q3 + 1.5 * IQR\n",
    "\n",
    "train = train[(train['price(원/kg)'] >= lower_bound) & (train['price(원/kg)'] <= upper_bound)]\n",
    "\n",
    "\n",
    "\n",
    "x = train.drop(columns=['ID', 'timestamp', 'supply(kg)', 'price(원/kg)'])\n",
    "y = train['price(원/kg)']\n",
    "\n",
    "x_test = test.drop(columns=['ID', 'timestamp'])\n",
    "\n",
    "qual_col = ['item', 'corporation', 'location', 'season', 'holiday', 'total_item_value', 'location_month']\n",
    "\n",
    "for i in qual_col:      \n",
    "    le = LabelEncoder()\n",
    "    x[i]=le.fit_transform(x[i])\n",
    "    x_test[i]=le.transform(x_test[i])\n",
    "\n",
    "x_train, x_val, y_train, y_val = train_test_split(x, y, test_size=0.2, random_state=1103)"
   ]
  },
  {
   "cell_type": "code",
   "execution_count": 260,
   "metadata": {},
   "outputs": [
    {
     "data": {
      "text/plain": [
       "381.12945822777385"
      ]
     },
     "execution_count": 260,
     "metadata": {},
     "output_type": "execute_result"
    }
   ],
   "source": [
    "xgb = XGBRegressor()\n",
    "xgb.fit(x_train, y_train)\n",
    "xgb_pred = xgb.predict(x_val)\n",
    "rmse = mean_squared_error(y_val, xgb_pred, squared=False)\n",
    "rmse"
   ]
  },
  {
   "cell_type": "code",
   "execution_count": 305,
   "metadata": {},
   "outputs": [
    {
     "name": "stdout",
     "output_type": "stream",
     "text": [
      "====================================1============================================\n",
      "1 Fold RMSE = 360.2968048014292\n",
      "================================================================================\n",
      "\n",
      "\n",
      "====================================2============================================\n",
      "2 Fold RMSE = 377.9410013597974\n",
      "================================================================================\n",
      "\n",
      "\n",
      "====================================3============================================\n",
      "3 Fold RMSE = 371.76160920258855\n",
      "================================================================================\n",
      "\n",
      "\n",
      "====================================4============================================\n",
      "4 Fold RMSE = 395.28358820009777\n",
      "================================================================================\n",
      "\n",
      "\n",
      "====================================5============================================\n",
      "5 Fold RMSE = 374.92560742678535\n",
      "================================================================================\n",
      "\n",
      "\n",
      "====================================6============================================\n",
      "6 Fold RMSE = 367.6027294983374\n",
      "================================================================================\n",
      "\n",
      "\n",
      "====================================7============================================\n",
      "7 Fold RMSE = 380.8767938417204\n",
      "================================================================================\n",
      "\n",
      "\n",
      "====================================8============================================\n",
      "8 Fold RMSE = 405.60715674728027\n",
      "================================================================================\n",
      "\n",
      "\n",
      "====================================9============================================\n",
      "9 Fold RMSE = 369.29218152405224\n",
      "================================================================================\n",
      "\n",
      "\n",
      "====================================10============================================\n",
      "10 Fold RMSE = 375.5204318132823\n",
      "================================================================================\n",
      "\n",
      "\n"
     ]
    }
   ],
   "source": [
    "def cross_validate_models(folds, X, y, model):\n",
    "\n",
    "    models = []\n",
    "\n",
    "    for idx, (train_idx, val_idx) in enumerate(folds):\n",
    "        print(f'===================================={idx+1}============================================')\n",
    "        x_train, x_val = X.iloc[train_idx], X.iloc[val_idx]\n",
    "        y_train, y_val = y.iloc[train_idx], y.iloc[val_idx]\n",
    "\n",
    "        model.fit(x_train, y_train, early_stopping_rounds=50,\n",
    "                  eval_metric='rmse', eval_set=[(x_val, y_val)], verbose=False)\n",
    "\n",
    "        y_pred = model.predict(x_val)\n",
    "        rmse = mean_squared_error(y_val, y_pred, squared=False)\n",
    "        print(f\"{idx + 1} Fold RMSE = {rmse}\")\n",
    "        models.append(model)\n",
    "        print(f'================================================================================\\n\\n')\n",
    "\n",
    "    return models\n",
    "\n",
    "model = XGBRegressor(n_estimators=10000)\n",
    "folds = list(KFold(n_splits=10, shuffle=True, random_state=1103).split(x, y))\n",
    "models = cross_validate_models(folds, x, y, model)\n",
    "predictions = sum(model.predict(x_test) for model in models) / len(folds)"
   ]
  },
  {
   "cell_type": "code",
   "execution_count": 309,
   "metadata": {},
   "outputs": [],
   "source": [
    "submission = pd.read_csv(r'data\\sample_submission.csv')\n",
    "submission['answer'] = np.round(predictions)\n",
    "submission.to_csv('./xgb_submission.csv', index=False)"
   ]
  }
 ],
 "metadata": {
  "kernelspec": {
   "display_name": "basic",
   "language": "python",
   "name": "python3"
  },
  "language_info": {
   "codemirror_mode": {
    "name": "ipython",
    "version": 3
   },
   "file_extension": ".py",
   "mimetype": "text/x-python",
   "name": "python",
   "nbconvert_exporter": "python",
   "pygments_lexer": "ipython3",
   "version": "3.8.10"
  }
 },
 "nbformat": 4,
 "nbformat_minor": 2
}
