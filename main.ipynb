{
 "cells": [
  {
   "cell_type": "code",
   "execution_count": 205,
   "metadata": {},
   "outputs": [],
   "source": [
    "import pandas as pd\n",
    "import numpy as np\n",
    "from sklearn.preprocessing import LabelEncoder\n",
    "from sklearn.model_selection import train_test_split\n",
    "from sklearn.metrics import mean_squared_error\n",
    "import holidays\n",
    "\n",
    "\n",
    "from xgboost import XGBRegressor\n",
    "from catboost import CatBoostRegressor\n",
    "from lightgbm import LGBMRegressor"
   ]
  },
  {
   "cell_type": "code",
   "execution_count": 206,
   "metadata": {},
   "outputs": [],
   "source": [
    "train = pd.read_csv(r'./data/train.csv')\n",
    "international_trade = pd.read_csv(r'./data/international_trade.csv')\n",
    "test = pd.read_csv(r'./data/test.csv')"
   ]
  },
  {
   "cell_type": "code",
   "execution_count": 207,
   "metadata": {},
   "outputs": [],
   "source": [
    "def group_season(df):\n",
    "    df.loc[(df['month'] == 3) | (df['month'] == 4) | (df['month'] == 5), 'season'] = '봄'\n",
    "    df.loc[(df['month'] == 6) | (df['month'] == 7) | (df['month'] == 8), 'season'] = '여름'\n",
    "    df.loc[(df['month'] == 9) | (df['month'] == 10) | (df['month'] == 11), 'season'] = '가을'\n",
    "    df.loc[(df['month'] == 12) | (df['month'] == 1) | (df['month'] == 2), 'season'] = '겨울'\n",
    "    return df['season']\n",
    "\n",
    "def holiday(df):\n",
    "    kr_holidays = holidays.KR()\n",
    "    df['holiday'] = df.timestamp.apply(lambda x: 'holiday' if x in kr_holidays else 'non-holiday')\n",
    "    return df['holiday']"
   ]
  },
  {
   "cell_type": "code",
   "execution_count": 208,
   "metadata": {},
   "outputs": [],
   "source": [
    "train['year'] = train['timestamp'].apply(lambda x : int(x[0:4]))\n",
    "train['month'] = train['timestamp'].apply(lambda x : int(x[5:7]))\n",
    "train['day'] = train['timestamp'].apply(lambda x : int(x[8:10]))\n",
    "train['Weekday'] = pd.to_datetime(train['timestamp']).dt.weekday\n",
    "train['is_weekend'] = train['Weekday'].apply(lambda x: 1 if x >= 5 else 0)\n",
    "\n",
    "\n",
    "test['year'] = test['timestamp'].apply(lambda x : int(x[0:4]))\n",
    "test['month'] = test['timestamp'].apply(lambda x : int(x[5:7]))\n",
    "test['day'] = test['timestamp'].apply(lambda x : int(x[8:10]))\n",
    "test['Weekday'] = pd.to_datetime(test['timestamp']).dt.weekday\n",
    "test['is_weekend'] = test['Weekday'].apply(lambda x: 1 if x >= 5 else 0)\n",
    "\n",
    "\n",
    "train['season'] = group_season(train)\n",
    "test['season'] = group_season(test)\n",
    "\n",
    "train['holiday'] = holiday(train)\n",
    "test['holiday'] = holiday(test)\n",
    "\n",
    "x = train.drop(columns=['ID', 'timestamp', 'supply(kg)', 'price(원/kg)'])\n",
    "y = train['price(원/kg)']\n",
    "\n",
    "x_test = test.drop(columns=['ID', 'timestamp'])\n",
    "\n",
    "qual_col = ['item', 'corporation', 'location', 'season', 'holiday']\n",
    "\n",
    "for i in qual_col:      \n",
    "    le = LabelEncoder()\n",
    "    x[i]=le.fit_transform(x[i])\n",
    "    x_test[i]=le.transform(x_test[i])\n",
    "\n",
    "x_train, x_val, y_train, y_val = train_test_split(x, y, test_size=0.2, random_state=1103)"
   ]
  },
  {
   "cell_type": "code",
   "execution_count": 209,
   "metadata": {},
   "outputs": [
    {
     "data": {
      "text/plain": [
       "876.9377080315774"
      ]
     },
     "execution_count": 209,
     "metadata": {},
     "output_type": "execute_result"
    }
   ],
   "source": [
    "xgb = XGBRegressor()\n",
    "xgb.fit(x_train, y_train)\n",
    "xgb_pred = xgb.predict(x_val)\n",
    "rmse = mean_squared_error(y_val, xgb_pred, squared=False)\n",
    "rmse"
   ]
  },
  {
   "cell_type": "code",
   "execution_count": 135,
   "metadata": {},
   "outputs": [
    {
     "name": "stdout",
     "output_type": "stream",
     "text": [
      "Learning rate set to 0.075357\n",
      "0:\tlearn: 1944.5664084\ttotal: 25ms\tremaining: 25s\n",
      "100:\tlearn: 999.8997629\ttotal: 2.56s\tremaining: 22.8s\n",
      "200:\tlearn: 959.7222024\ttotal: 5.22s\tremaining: 20.7s\n",
      "300:\tlearn: 942.5196092\ttotal: 7.93s\tremaining: 18.4s\n",
      "400:\tlearn: 928.8785060\ttotal: 10.8s\tremaining: 16.1s\n",
      "500:\tlearn: 918.2622981\ttotal: 13.6s\tremaining: 13.5s\n",
      "600:\tlearn: 907.1047097\ttotal: 16.6s\tremaining: 11s\n",
      "700:\tlearn: 897.5341786\ttotal: 19.8s\tremaining: 8.45s\n",
      "800:\tlearn: 890.3444058\ttotal: 23.1s\tremaining: 5.73s\n",
      "900:\tlearn: 883.5608619\ttotal: 26.4s\tremaining: 2.9s\n",
      "999:\tlearn: 875.0861388\ttotal: 29.4s\tremaining: 0us\n"
     ]
    },
    {
     "data": {
      "text/plain": [
       "917.6474170957279"
      ]
     },
     "execution_count": 135,
     "metadata": {},
     "output_type": "execute_result"
    }
   ],
   "source": [
    "cat_col = ['item', 'corporation', 'location', 'year', 'month', 'day', 'Weekday', 'is_weekend', 'season', 'holiday']\n",
    "cat = CatBoostRegressor(cat_features=cat_col, verbose=100)\n",
    "cat.fit(x_train, y_train)\n",
    "cat_pred = cat.predict(x_val)\n",
    "rmse = mean_squared_error(y_val, cat_pred, squared=False)\n",
    "rmse"
   ]
  },
  {
   "cell_type": "code",
   "execution_count": 142,
   "metadata": {},
   "outputs": [
    {
     "data": {
      "text/plain": [
       "887.9576513290516"
      ]
     },
     "execution_count": 142,
     "metadata": {},
     "output_type": "execute_result"
    }
   ],
   "source": [
    "lgbm = LGBMRegressor()\n",
    "lgbm.fit(x_train, y_train)\n",
    "lgbm_pred = lgbm.predict(x_val)\n",
    "rmse = mean_squared_error(y_val, lgbm_pred, squared=False)\n",
    "rmse"
   ]
  },
  {
   "cell_type": "code",
   "execution_count": 82,
   "metadata": {},
   "outputs": [
    {
     "name": "stdout",
     "output_type": "stream",
     "text": [
      "Learning rate set to 0.078061\n",
      "0:\tlearn: 1954.9125716\ttotal: 29.6ms\tremaining: 29.6s\n",
      "100:\tlearn: 1038.7122630\ttotal: 2.44s\tremaining: 21.7s\n",
      "200:\tlearn: 997.6960760\ttotal: 4.77s\tremaining: 19s\n",
      "300:\tlearn: 985.1579908\ttotal: 7.21s\tremaining: 16.7s\n",
      "400:\tlearn: 975.3662248\ttotal: 9.7s\tremaining: 14.5s\n",
      "500:\tlearn: 966.2400826\ttotal: 12s\tremaining: 12s\n",
      "600:\tlearn: 957.9605702\ttotal: 14.5s\tremaining: 9.6s\n",
      "700:\tlearn: 951.7497680\ttotal: 17s\tremaining: 7.25s\n",
      "800:\tlearn: 945.0388660\ttotal: 19.5s\tremaining: 4.85s\n",
      "900:\tlearn: 938.1562504\ttotal: 21.9s\tremaining: 2.4s\n",
      "999:\tlearn: 931.2016044\ttotal: 24.3s\tremaining: 0us\n"
     ]
    }
   ],
   "source": [
    "cat_col = ['item', 'corporation', 'location', 'year', 'month', 'day', 'season']\n",
    "cat = CatBoostRegressor(cat_features=cat_col, verbose=100)\n",
    "cat.fit(x, y)\n",
    "cat_pred = cat.predict(x_test)"
   ]
  },
  {
   "cell_type": "code",
   "execution_count": 47,
   "metadata": {},
   "outputs": [],
   "source": [
    "cat_pred = np.round(cat_pred)"
   ]
  },
  {
   "cell_type": "code",
   "execution_count": 50,
   "metadata": {},
   "outputs": [],
   "source": [
    "submission = pd.read_csv(r'data\\sample_submission.csv')\n",
    "submission['answer'] = cat_pred\n",
    "submission.to_csv('./baseline_submission.csv', index=False)"
   ]
  }
 ],
 "metadata": {
  "kernelspec": {
   "display_name": "basic",
   "language": "python",
   "name": "python3"
  },
  "language_info": {
   "codemirror_mode": {
    "name": "ipython",
    "version": 3
   },
   "file_extension": ".py",
   "mimetype": "text/x-python",
   "name": "python",
   "nbconvert_exporter": "python",
   "pygments_lexer": "ipython3",
   "version": "3.8.10"
  }
 },
 "nbformat": 4,
 "nbformat_minor": 2
}
